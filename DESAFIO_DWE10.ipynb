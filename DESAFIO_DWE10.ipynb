{
 "cells": [
  {
   "cell_type": "markdown",
   "metadata": {},
   "source": [
    "**PARTE 1: DESENVOLVIMENTO PIPELINE/NOTEBOOK**"
   ]
  },
  {
   "cell_type": "markdown",
   "metadata": {},
   "source": [
    "***Instalação e importação das bibliotecas***"
   ]
  },
  {
   "cell_type": "code",
   "execution_count": 8,
   "metadata": {},
   "outputs": [
    {
     "name": "stdout",
     "output_type": "stream",
     "text": [
      "Requirement already satisfied: pandas in c:\\users\\biaar\\appdata\\local\\programs\\python\\python311\\lib\\site-packages (2.0.0)\n",
      "Requirement already satisfied: python-dateutil>=2.8.2 in c:\\users\\biaar\\appdata\\local\\programs\\python\\python311\\lib\\site-packages (from pandas) (2.8.2)\n",
      "Requirement already satisfied: pytz>=2020.1 in c:\\users\\biaar\\appdata\\local\\programs\\python\\python311\\lib\\site-packages (from pandas) (2023.3)\n",
      "Requirement already satisfied: tzdata>=2022.1 in c:\\users\\biaar\\appdata\\local\\programs\\python\\python311\\lib\\site-packages (from pandas) (2023.3)\n",
      "Requirement already satisfied: numpy>=1.21.0 in c:\\users\\biaar\\appdata\\local\\programs\\python\\python311\\lib\\site-packages (from pandas) (1.24.2)\n",
      "Requirement already satisfied: six>=1.5 in c:\\users\\biaar\\appdata\\local\\programs\\python\\python311\\lib\\site-packages (from python-dateutil>=2.8.2->pandas) (1.16.0)\n",
      "Note: you may need to restart the kernel to use updated packages.\n",
      "Note: you may need to restart the kernel to use updated packages.\n"
     ]
    },
    {
     "name": "stderr",
     "output_type": "stream",
     "text": [
      "ERROR: Invalid requirement: '#usada'\n"
     ]
    },
    {
     "name": "stdout",
     "output_type": "stream",
     "text": [
      "Note: you may need to restart the kernel to use updated packages.\n"
     ]
    },
    {
     "name": "stderr",
     "output_type": "stream",
     "text": [
      "ERROR: Invalid requirement: '#usado'\n"
     ]
    },
    {
     "name": "stdout",
     "output_type": "stream",
     "text": [
      "Collecting fastparquet\n",
      "  Downloading fastparquet-2024.2.0-cp311-cp311-win_amd64.whl.metadata (4.2 kB)\n",
      "Requirement already satisfied: pandas>=1.5.0 in c:\\users\\biaar\\appdata\\local\\programs\\python\\python311\\lib\\site-packages (from fastparquet) (2.0.0)\n",
      "Requirement already satisfied: numpy>=1.20.3 in c:\\users\\biaar\\appdata\\local\\programs\\python\\python311\\lib\\site-packages (from fastparquet) (1.24.2)\n",
      "Collecting cramjam>=2.3 (from fastparquet)\n",
      "  Downloading cramjam-2.8.1-cp311-none-win_amd64.whl.metadata (4.2 kB)\n",
      "Collecting fsspec (from fastparquet)\n",
      "  Downloading fsspec-2024.2.0-py3-none-any.whl.metadata (6.8 kB)\n",
      "Requirement already satisfied: packaging in c:\\users\\biaar\\appdata\\local\\programs\\python\\python311\\lib\\site-packages (from fastparquet) (23.0)\n",
      "Requirement already satisfied: python-dateutil>=2.8.2 in c:\\users\\biaar\\appdata\\local\\programs\\python\\python311\\lib\\site-packages (from pandas>=1.5.0->fastparquet) (2.8.2)\n",
      "Requirement already satisfied: pytz>=2020.1 in c:\\users\\biaar\\appdata\\local\\programs\\python\\python311\\lib\\site-packages (from pandas>=1.5.0->fastparquet) (2023.3)\n",
      "Requirement already satisfied: tzdata>=2022.1 in c:\\users\\biaar\\appdata\\local\\programs\\python\\python311\\lib\\site-packages (from pandas>=1.5.0->fastparquet) (2023.3)\n",
      "Requirement already satisfied: six>=1.5 in c:\\users\\biaar\\appdata\\local\\programs\\python\\python311\\lib\\site-packages (from python-dateutil>=2.8.2->pandas>=1.5.0->fastparquet) (1.16.0)\n",
      "Downloading fastparquet-2024.2.0-cp311-cp311-win_amd64.whl (670 kB)\n",
      "   ---------------------------------------- 0.0/670.5 kB ? eta -:--:--\n",
      "   - ------------------------------------- 30.7/670.5 kB 660.6 kB/s eta 0:00:01\n",
      "   - ------------------------------------- 30.7/670.5 kB 660.6 kB/s eta 0:00:01\n",
      "   -- ------------------------------------ 41.0/670.5 kB 326.8 kB/s eta 0:00:02\n",
      "   ----- --------------------------------- 92.2/670.5 kB 585.1 kB/s eta 0:00:01\n",
      "   ----- --------------------------------- 92.2/670.5 kB 585.1 kB/s eta 0:00:01\n",
      "   -------- ----------------------------- 143.4/670.5 kB 532.5 kB/s eta 0:00:01\n",
      "   -------- ----------------------------- 143.4/670.5 kB 532.5 kB/s eta 0:00:01\n",
      "   ------------- ------------------------ 245.8/670.5 kB 656.0 kB/s eta 0:00:01\n",
      "   -------------- ----------------------- 256.0/670.5 kB 630.2 kB/s eta 0:00:01\n",
      "   --------------- ---------------------- 276.5/670.5 kB 609.2 kB/s eta 0:00:01\n",
      "   ---------------- --------------------- 286.7/670.5 kB 553.0 kB/s eta 0:00:01\n",
      "   ---------------- --------------------- 286.7/670.5 kB 553.0 kB/s eta 0:00:01\n",
      "   ------------------- ------------------ 337.9/670.5 kB 551.6 kB/s eta 0:00:01\n",
      "   -------------------- ----------------- 368.6/670.5 kB 573.4 kB/s eta 0:00:01\n",
      "   ----------------------- -------------- 419.8/670.5 kB 609.5 kB/s eta 0:00:01\n",
      "   --------------------------- ---------- 491.5/670.5 kB 669.4 kB/s eta 0:00:01\n",
      "   ----------------------------- -------- 522.2/670.5 kB 669.3 kB/s eta 0:00:01\n",
      "   --------------------------------- ---- 583.7/670.5 kB 706.2 kB/s eta 0:00:01\n",
      "   ---------------------------------- --- 614.4/670.5 kB 715.8 kB/s eta 0:00:01\n",
      "   -------------------------------------- 670.5/670.5 kB 716.1 kB/s eta 0:00:00\n",
      "Downloading cramjam-2.8.1-cp311-none-win_amd64.whl (1.6 MB)\n",
      "   ---------------------------------------- 0.0/1.6 MB ? eta -:--:--\n",
      "   - -------------------------------------- 0.1/1.6 MB 3.2 MB/s eta 0:00:01\n",
      "   --- ------------------------------------ 0.1/1.6 MB 2.1 MB/s eta 0:00:01\n",
      "   ----- ---------------------------------- 0.2/1.6 MB 2.0 MB/s eta 0:00:01\n",
      "   ------- -------------------------------- 0.3/1.6 MB 1.7 MB/s eta 0:00:01\n",
      "   -------- ------------------------------- 0.4/1.6 MB 1.9 MB/s eta 0:00:01\n",
      "   -------- ------------------------------- 0.4/1.6 MB 1.9 MB/s eta 0:00:01\n",
      "   -------- ------------------------------- 0.4/1.6 MB 1.9 MB/s eta 0:00:01\n",
      "   ------------- -------------------------- 0.5/1.6 MB 1.4 MB/s eta 0:00:01\n",
      "   --------------- ------------------------ 0.6/1.6 MB 1.6 MB/s eta 0:00:01\n",
      "   --------------- ------------------------ 0.6/1.6 MB 1.6 MB/s eta 0:00:01\n",
      "   --------------- ------------------------ 0.6/1.6 MB 1.6 MB/s eta 0:00:01\n",
      "   --------------- ------------------------ 0.6/1.6 MB 1.6 MB/s eta 0:00:01\n",
      "   --------------- ------------------------ 0.6/1.6 MB 1.6 MB/s eta 0:00:01\n",
      "   --------------- ------------------------ 0.6/1.6 MB 1.6 MB/s eta 0:00:01\n",
      "   ------------------ --------------------- 0.7/1.6 MB 1.1 MB/s eta 0:00:01\n",
      "   ------------------------ --------------- 1.0/1.6 MB 1.4 MB/s eta 0:00:01\n",
      "   ------------------------ --------------- 1.0/1.6 MB 1.4 MB/s eta 0:00:01\n",
      "   -------------------------- ------------- 1.1/1.6 MB 1.3 MB/s eta 0:00:01\n",
      "   ---------------------------- ----------- 1.1/1.6 MB 1.3 MB/s eta 0:00:01\n",
      "   ---------------------------- ----------- 1.2/1.6 MB 1.3 MB/s eta 0:00:01\n",
      "   ---------------------------- ----------- 1.2/1.6 MB 1.3 MB/s eta 0:00:01\n",
      "   ----------------------------- ---------- 1.2/1.6 MB 1.2 MB/s eta 0:00:01\n",
      "   -------------------------------- ------- 1.3/1.6 MB 1.2 MB/s eta 0:00:01\n",
      "   ---------------------------------- ----- 1.4/1.6 MB 1.3 MB/s eta 0:00:01\n",
      "   ---------------------------------- ----- 1.4/1.6 MB 1.2 MB/s eta 0:00:01\n",
      "   ----------------------------------- ---- 1.4/1.6 MB 1.2 MB/s eta 0:00:01\n",
      "   ------------------------------------- -- 1.5/1.6 MB 1.2 MB/s eta 0:00:01\n",
      "   -------------------------------------- - 1.5/1.6 MB 1.2 MB/s eta 0:00:01\n",
      "   -------------------------------------- - 1.5/1.6 MB 1.2 MB/s eta 0:00:01\n",
      "   ---------------------------------------  1.6/1.6 MB 1.1 MB/s eta 0:00:01\n",
      "   ---------------------------------------- 1.6/1.6 MB 1.1 MB/s eta 0:00:00\n",
      "Downloading fsspec-2024.2.0-py3-none-any.whl (170 kB)\n",
      "   ---------------------------------------- 0.0/170.9 kB ? eta -:--:--\n",
      "   -------------- ------------------------- 61.4/170.9 kB 1.6 MB/s eta 0:00:01\n",
      "   -------------- ------------------------- 61.4/170.9 kB 1.6 MB/s eta 0:00:01\n",
      "   ---------------------------------------- 170.9/170.9 kB 1.3 MB/s eta 0:00:00\n",
      "Installing collected packages: fsspec, cramjam, fastparquet\n",
      "Successfully installed cramjam-2.8.1 fastparquet-2024.2.0 fsspec-2024.2.0\n",
      "Note: you may need to restart the kernel to use updated packages.\n"
     ]
    }
   ],
   "source": [
    "%pip install pandas\n",
    "%pip install IPython  #usada para exibir a foto do diagrama dimensional\n",
    "%pip install pyarrow #usado para interagir com arquivos no formato parquet\n",
    "%pip install fastparquet"
   ]
  },
  {
   "cell_type": "code",
   "execution_count": 36,
   "metadata": {},
   "outputs": [],
   "source": [
    "import pandas as pd\n",
    "#Importação dos módulos Image e display da biblioteca IPython.display para exibição de imagens\n",
    "from IPython.display import display, Image"
   ]
  },
  {
   "cell_type": "markdown",
   "metadata": {},
   "source": [
    "***Importação do arquivo CSV para um DataFrame***"
   ]
  },
  {
   "cell_type": "code",
   "execution_count": 37,
   "metadata": {},
   "outputs": [],
   "source": [
    "#Caminho para o diretório do lakehouse\n",
    "path = \"C:/Users/biaar/OneDrive/Documents/DWE_LAKEHOUSE\""
   ]
  },
  {
   "cell_type": "code",
   "execution_count": 38,
   "metadata": {},
   "outputs": [
    {
     "data": {
      "text/html": [
       "<div>\n",
       "<style scoped>\n",
       "    .dataframe tbody tr th:only-of-type {\n",
       "        vertical-align: middle;\n",
       "    }\n",
       "\n",
       "    .dataframe tbody tr th {\n",
       "        vertical-align: top;\n",
       "    }\n",
       "\n",
       "    .dataframe thead th {\n",
       "        text-align: right;\n",
       "    }\n",
       "</style>\n",
       "<table border=\"1\" class=\"dataframe\">\n",
       "  <thead>\n",
       "    <tr style=\"text-align: right;\">\n",
       "      <th></th>\n",
       "      <th>IDProduto</th>\n",
       "      <th>Data</th>\n",
       "      <th>IDCliente</th>\n",
       "      <th>IDCampanha</th>\n",
       "      <th>Unidades</th>\n",
       "      <th>Produto</th>\n",
       "      <th>Categoria</th>\n",
       "      <th>Segmento</th>\n",
       "      <th>IDFabricante</th>\n",
       "      <th>Fabricante</th>\n",
       "      <th>CustoUnitario</th>\n",
       "      <th>PrecoUnitario</th>\n",
       "      <th>CodigoPostal</th>\n",
       "      <th>EmailNome</th>\n",
       "      <th>Cidade</th>\n",
       "      <th>Estado</th>\n",
       "      <th>Regiao</th>\n",
       "      <th>Distrito</th>\n",
       "      <th>Pais</th>\n",
       "    </tr>\n",
       "  </thead>\n",
       "  <tbody>\n",
       "    <tr>\n",
       "      <th>0</th>\n",
       "      <td>449</td>\n",
       "      <td>2012-07-26 00:00:00.000</td>\n",
       "      <td>247546</td>\n",
       "      <td>22</td>\n",
       "      <td>1</td>\n",
       "      <td>Maximus UM-54</td>\n",
       "      <td>Urban</td>\n",
       "      <td>Moderation</td>\n",
       "      <td>7</td>\n",
       "      <td>VanArsdel</td>\n",
       "      <td>74.729917</td>\n",
       "      <td>102.36975</td>\n",
       "      <td>33194</td>\n",
       "      <td>(Nerea.Barry@xyza.com): Barry, Nerea</td>\n",
       "      <td>Miami, FL, USA</td>\n",
       "      <td>FL</td>\n",
       "      <td>East</td>\n",
       "      <td>District #10</td>\n",
       "      <td>USA</td>\n",
       "    </tr>\n",
       "    <tr>\n",
       "      <th>1</th>\n",
       "      <td>449</td>\n",
       "      <td>2013-10-31 00:00:00.000</td>\n",
       "      <td>124593</td>\n",
       "      <td>22</td>\n",
       "      <td>1</td>\n",
       "      <td>Maximus UM-54</td>\n",
       "      <td>Urban</td>\n",
       "      <td>Moderation</td>\n",
       "      <td>7</td>\n",
       "      <td>VanArsdel</td>\n",
       "      <td>74.729917</td>\n",
       "      <td>102.36975</td>\n",
       "      <td>33177</td>\n",
       "      <td>(Elliott.Stuart@xyza.com): Stuart, Elliott</td>\n",
       "      <td>Miami, FL, USA</td>\n",
       "      <td>FL</td>\n",
       "      <td>East</td>\n",
       "      <td>District #10</td>\n",
       "      <td>USA</td>\n",
       "    </tr>\n",
       "    <tr>\n",
       "      <th>2</th>\n",
       "      <td>449</td>\n",
       "      <td>2013-11-14 00:00:00.000</td>\n",
       "      <td>163517</td>\n",
       "      <td>22</td>\n",
       "      <td>1</td>\n",
       "      <td>Maximus UM-54</td>\n",
       "      <td>Urban</td>\n",
       "      <td>Moderation</td>\n",
       "      <td>7</td>\n",
       "      <td>VanArsdel</td>\n",
       "      <td>74.729917</td>\n",
       "      <td>102.36975</td>\n",
       "      <td>33172</td>\n",
       "      <td>(Holmes.Swanson@xyza.com): Swanson, Holmes</td>\n",
       "      <td>Miami, FL, USA</td>\n",
       "      <td>FL</td>\n",
       "      <td>East</td>\n",
       "      <td>District #10</td>\n",
       "      <td>USA</td>\n",
       "    </tr>\n",
       "    <tr>\n",
       "      <th>3</th>\n",
       "      <td>449</td>\n",
       "      <td>2013-01-17 00:00:00.000</td>\n",
       "      <td>8875</td>\n",
       "      <td>18</td>\n",
       "      <td>1</td>\n",
       "      <td>Maximus UM-54</td>\n",
       "      <td>Urban</td>\n",
       "      <td>Moderation</td>\n",
       "      <td>7</td>\n",
       "      <td>VanArsdel</td>\n",
       "      <td>74.729917</td>\n",
       "      <td>102.36975</td>\n",
       "      <td>33169</td>\n",
       "      <td>(Nyssa.Solis@xyza.com): Solis, Nyssa</td>\n",
       "      <td>Miami, FL, USA</td>\n",
       "      <td>FL</td>\n",
       "      <td>East</td>\n",
       "      <td>District #10</td>\n",
       "      <td>USA</td>\n",
       "    </tr>\n",
       "    <tr>\n",
       "      <th>4</th>\n",
       "      <td>449</td>\n",
       "      <td>2014-09-13 00:00:00.000</td>\n",
       "      <td>8894</td>\n",
       "      <td>21</td>\n",
       "      <td>1</td>\n",
       "      <td>Maximus UM-54</td>\n",
       "      <td>Urban</td>\n",
       "      <td>Moderation</td>\n",
       "      <td>7</td>\n",
       "      <td>VanArsdel</td>\n",
       "      <td>74.729917</td>\n",
       "      <td>102.36975</td>\n",
       "      <td>33169</td>\n",
       "      <td>(Ivana.Wall@xyza.com): Wall, Ivana</td>\n",
       "      <td>Miami, FL, USA</td>\n",
       "      <td>FL</td>\n",
       "      <td>East</td>\n",
       "      <td>District #10</td>\n",
       "      <td>USA</td>\n",
       "    </tr>\n",
       "  </tbody>\n",
       "</table>\n",
       "</div>"
      ],
      "text/plain": [
       "   IDProduto                     Data  IDCliente  IDCampanha  Unidades   \n",
       "0        449  2012-07-26 00:00:00.000     247546          22         1  \\\n",
       "1        449  2013-10-31 00:00:00.000     124593          22         1   \n",
       "2        449  2013-11-14 00:00:00.000     163517          22         1   \n",
       "3        449  2013-01-17 00:00:00.000       8875          18         1   \n",
       "4        449  2014-09-13 00:00:00.000       8894          21         1   \n",
       "\n",
       "         Produto Categoria    Segmento  IDFabricante Fabricante   \n",
       "0  Maximus UM-54     Urban  Moderation             7  VanArsdel  \\\n",
       "1  Maximus UM-54     Urban  Moderation             7  VanArsdel   \n",
       "2  Maximus UM-54     Urban  Moderation             7  VanArsdel   \n",
       "3  Maximus UM-54     Urban  Moderation             7  VanArsdel   \n",
       "4  Maximus UM-54     Urban  Moderation             7  VanArsdel   \n",
       "\n",
       "   CustoUnitario  PrecoUnitario  CodigoPostal   \n",
       "0      74.729917      102.36975         33194  \\\n",
       "1      74.729917      102.36975         33177   \n",
       "2      74.729917      102.36975         33172   \n",
       "3      74.729917      102.36975         33169   \n",
       "4      74.729917      102.36975         33169   \n",
       "\n",
       "                                    EmailNome          Cidade Estado Regiao   \n",
       "0        (Nerea.Barry@xyza.com): Barry, Nerea  Miami, FL, USA     FL   East  \\\n",
       "1  (Elliott.Stuart@xyza.com): Stuart, Elliott  Miami, FL, USA     FL   East   \n",
       "2  (Holmes.Swanson@xyza.com): Swanson, Holmes  Miami, FL, USA     FL   East   \n",
       "3        (Nyssa.Solis@xyza.com): Solis, Nyssa  Miami, FL, USA     FL   East   \n",
       "4          (Ivana.Wall@xyza.com): Wall, Ivana  Miami, FL, USA     FL   East   \n",
       "\n",
       "       Distrito Pais  \n",
       "0  District #10  USA  \n",
       "1  District #10  USA  \n",
       "2  District #10  USA  \n",
       "3  District #10  USA  \n",
       "4  District #10  USA  "
      ]
     },
     "execution_count": 38,
     "metadata": {},
     "output_type": "execute_result"
    }
   ],
   "source": [
    "#Lê o arquivo .csv, usando o separador \",\" e a codificação \"utf-8\"\n",
    "df_original = pd.read_csv(path + \"/BRONZE/Vendas.csv\", encoding=\"utf-8\", sep=\",\")\n",
    "\n",
    "#Exibe as primeiras linhas do DataFrame resultante para visualização\n",
    "df_original.head()"
   ]
  },
  {
   "cell_type": "markdown",
   "metadata": {},
   "source": [
    "***Exibição do diagrama conceitual do modelo***"
   ]
  },
  {
   "cell_type": "code",
   "execution_count": 4,
   "metadata": {},
   "outputs": [
    {
     "data": {
      "image/jpeg": "[encoded data removed]",
      "text/plain": [
       "<IPython.core.display.Image object>"
      ]
     },
     "metadata": {},
     "output_type": "display_data"
    }
   ],
   "source": [
    "#Exibe o diagrama conceitual sobre a modelagem dimensional relacionado ao arquivo Vendas.csv\n",
    "display(Image(filename=f\"{path}/diagrama_conceitual_vendas.jpg\"))"
   ]
  },
  {
   "cell_type": "markdown",
   "metadata": {},
   "source": [
    "***Preparação dos dados para a camada Silver***"
   ]
  },
  {
   "cell_type": "markdown",
   "metadata": {},
   "source": [
    "*Alterações gerais sobre o DataFrame original: formatação e remoção de colunas*"
   ]
  },
  {
   "cell_type": "code",
   "execution_count": 39,
   "metadata": {},
   "outputs": [
    {
     "data": {
      "text/html": [
       "<div>\n",
       "<style scoped>\n",
       "    .dataframe tbody tr th:only-of-type {\n",
       "        vertical-align: middle;\n",
       "    }\n",
       "\n",
       "    .dataframe tbody tr th {\n",
       "        vertical-align: top;\n",
       "    }\n",
       "\n",
       "    .dataframe thead th {\n",
       "        text-align: right;\n",
       "    }\n",
       "</style>\n",
       "<table border=\"1\" class=\"dataframe\">\n",
       "  <thead>\n",
       "    <tr style=\"text-align: right;\">\n",
       "      <th></th>\n",
       "      <th>IDProduto</th>\n",
       "      <th>Data</th>\n",
       "      <th>IDCliente</th>\n",
       "      <th>Unidades</th>\n",
       "      <th>Produto</th>\n",
       "      <th>Categoria</th>\n",
       "      <th>Segmento</th>\n",
       "      <th>IDFabricante</th>\n",
       "      <th>Fabricante</th>\n",
       "      <th>CustoUnitario</th>\n",
       "      <th>PrecoUnitario</th>\n",
       "      <th>Cidade</th>\n",
       "      <th>Estado</th>\n",
       "      <th>Regiao</th>\n",
       "      <th>Pais</th>\n",
       "      <th>Cliente</th>\n",
       "    </tr>\n",
       "  </thead>\n",
       "  <tbody>\n",
       "    <tr>\n",
       "      <th>0</th>\n",
       "      <td>449</td>\n",
       "      <td>2012-07-26</td>\n",
       "      <td>247546</td>\n",
       "      <td>1</td>\n",
       "      <td>Maximus UM-54</td>\n",
       "      <td>Urban</td>\n",
       "      <td>Moderation</td>\n",
       "      <td>7</td>\n",
       "      <td>VanArsdel</td>\n",
       "      <td>74.729917</td>\n",
       "      <td>102.36975</td>\n",
       "      <td>Miami</td>\n",
       "      <td>FL</td>\n",
       "      <td>East</td>\n",
       "      <td>USA</td>\n",
       "      <td>Nerea Barry</td>\n",
       "    </tr>\n",
       "    <tr>\n",
       "      <th>1</th>\n",
       "      <td>449</td>\n",
       "      <td>2013-10-31</td>\n",
       "      <td>124593</td>\n",
       "      <td>1</td>\n",
       "      <td>Maximus UM-54</td>\n",
       "      <td>Urban</td>\n",
       "      <td>Moderation</td>\n",
       "      <td>7</td>\n",
       "      <td>VanArsdel</td>\n",
       "      <td>74.729917</td>\n",
       "      <td>102.36975</td>\n",
       "      <td>Miami</td>\n",
       "      <td>FL</td>\n",
       "      <td>East</td>\n",
       "      <td>USA</td>\n",
       "      <td>Elliott Stuart</td>\n",
       "    </tr>\n",
       "    <tr>\n",
       "      <th>2</th>\n",
       "      <td>449</td>\n",
       "      <td>2013-11-14</td>\n",
       "      <td>163517</td>\n",
       "      <td>1</td>\n",
       "      <td>Maximus UM-54</td>\n",
       "      <td>Urban</td>\n",
       "      <td>Moderation</td>\n",
       "      <td>7</td>\n",
       "      <td>VanArsdel</td>\n",
       "      <td>74.729917</td>\n",
       "      <td>102.36975</td>\n",
       "      <td>Miami</td>\n",
       "      <td>FL</td>\n",
       "      <td>East</td>\n",
       "      <td>USA</td>\n",
       "      <td>Holmes Swanson</td>\n",
       "    </tr>\n",
       "    <tr>\n",
       "      <th>3</th>\n",
       "      <td>449</td>\n",
       "      <td>2013-01-17</td>\n",
       "      <td>8875</td>\n",
       "      <td>1</td>\n",
       "      <td>Maximus UM-54</td>\n",
       "      <td>Urban</td>\n",
       "      <td>Moderation</td>\n",
       "      <td>7</td>\n",
       "      <td>VanArsdel</td>\n",
       "      <td>74.729917</td>\n",
       "      <td>102.36975</td>\n",
       "      <td>Miami</td>\n",
       "      <td>FL</td>\n",
       "      <td>East</td>\n",
       "      <td>USA</td>\n",
       "      <td>Nyssa Solis</td>\n",
       "    </tr>\n",
       "    <tr>\n",
       "      <th>4</th>\n",
       "      <td>449</td>\n",
       "      <td>2014-09-13</td>\n",
       "      <td>8894</td>\n",
       "      <td>1</td>\n",
       "      <td>Maximus UM-54</td>\n",
       "      <td>Urban</td>\n",
       "      <td>Moderation</td>\n",
       "      <td>7</td>\n",
       "      <td>VanArsdel</td>\n",
       "      <td>74.729917</td>\n",
       "      <td>102.36975</td>\n",
       "      <td>Miami</td>\n",
       "      <td>FL</td>\n",
       "      <td>East</td>\n",
       "      <td>USA</td>\n",
       "      <td>Ivana Wall</td>\n",
       "    </tr>\n",
       "  </tbody>\n",
       "</table>\n",
       "</div>"
      ],
      "text/plain": [
       "   IDProduto       Data  IDCliente  Unidades        Produto Categoria   \n",
       "0        449 2012-07-26     247546         1  Maximus UM-54     Urban  \\\n",
       "1        449 2013-10-31     124593         1  Maximus UM-54     Urban   \n",
       "2        449 2013-11-14     163517         1  Maximus UM-54     Urban   \n",
       "3        449 2013-01-17       8875         1  Maximus UM-54     Urban   \n",
       "4        449 2014-09-13       8894         1  Maximus UM-54     Urban   \n",
       "\n",
       "     Segmento  IDFabricante Fabricante  CustoUnitario  PrecoUnitario Cidade   \n",
       "0  Moderation             7  VanArsdel      74.729917      102.36975  Miami  \\\n",
       "1  Moderation             7  VanArsdel      74.729917      102.36975  Miami   \n",
       "2  Moderation             7  VanArsdel      74.729917      102.36975  Miami   \n",
       "3  Moderation             7  VanArsdel      74.729917      102.36975  Miami   \n",
       "4  Moderation             7  VanArsdel      74.729917      102.36975  Miami   \n",
       "\n",
       "  Estado Regiao Pais         Cliente  \n",
       "0     FL   East  USA     Nerea Barry  \n",
       "1     FL   East  USA  Elliott Stuart  \n",
       "2     FL   East  USA  Holmes Swanson  \n",
       "3     FL   East  USA     Nyssa Solis  \n",
       "4     FL   East  USA      Ivana Wall  "
      ]
     },
     "execution_count": 39,
     "metadata": {},
     "output_type": "execute_result"
    }
   ],
   "source": [
    "\n",
    "#Separa o e-mail do nome na coluna Cliente e mantém apenas o nome\n",
    "df_original['Cliente'] = df_original['EmailNome'].str.split(': ', expand=True)[1]\n",
    "\n",
    "#Formata o campo Cliente para \"Nome Sobrenome\"\n",
    "df_original['Cliente'] = df_original['Cliente'].str.split(', ').str[::-1].str.join(' ')\n",
    "\n",
    "#Mantém apenas o nome da cidade na coluna Cidade\n",
    "df_original['Cidade'] = df_original['Cidade'].str.split(',').str[0]\n",
    "\n",
    "#Converte a coluna 'Data' para o tipo datetime\n",
    "df_original['Data'] = pd.to_datetime(df_original['Data'])\n",
    "\n",
    "#Elimina as colunas IDCampanha, distrito, código postal e a coluna EmailNome, já que a informação do e-mail do cliente não será mais usada\n",
    "df_original.drop(['IDCampanha', 'Distrito', 'CodigoPostal', 'EmailNome'], axis=1, inplace=True)\n",
    "\n",
    "#Exibe as primeiras linhas do DataFrame resultante para verificar as transformações aplicadas\n",
    "df_original.head()\n"
   ]
  },
  {
   "cell_type": "code",
   "execution_count": 40,
   "metadata": {},
   "outputs": [],
   "source": [
    "#Salva a tabela vendas transformada no formato parquet\n",
    "df_original.to_parquet(f\"{path}/SILVER/Vendas_transformadas.parquet\")"
   ]
  },
  {
   "cell_type": "markdown",
   "metadata": {},
   "source": [
    "*Criação das tabelas dimensões sem as SKs: Produto, Categoria, Segmento, Fabricante, Cliente (nome), Cidade, Estado, Região, País*"
   ]
  },
  {
   "cell_type": "code",
   "execution_count": 41,
   "metadata": {},
   "outputs": [
    {
     "name": "stdout",
     "output_type": "stream",
     "text": [
      "    IDProduto        Produto\n",
      "0         449  Maximus UM-54\n",
      "0         470  Maximus UM-75\n",
      "0         496  Maximus UM-01\n",
      "0         457  Maximus UM-62\n",
      "0         433  Maximus UM-38\n",
      "..        ...            ...\n",
      "0         398  Maximus UM-03\n",
      "0         405  Maximus UM-10\n",
      "0         406  Maximus UM-11\n",
      "0         402  Maximus UM-07\n",
      "0         407  Maximus UM-12\n",
      "\n",
      "[212 rows x 2 columns]\n",
      "   Categoria\n",
      "0      Urban\n",
      "0        Mix\n",
      "0      Youth\n",
      "0      Rural\n",
      "0  Accessory\n",
      "       Segmento\n",
      "0    Moderation\n",
      "0   Convenience\n",
      "0       Extreme\n",
      "0       Regular\n",
      "0    All Season\n",
      "0  Productivity\n",
      "0         Youth\n",
      "0        Select\n",
      "0     Accessory\n",
      "   IDFabricante Fabricante\n",
      "0             7  VanArsdel\n",
      "              Cidade\n",
      "0              Miami\n",
      "0    Fort Lauderdale\n",
      "0   Port Saint Lucie\n",
      "0         Fort Myers\n",
      "0              Tampa\n",
      "..               ...\n",
      "0          Sassafras\n",
      "0            Mayking\n",
      "0            Gunlock\n",
      "0         Clairfield\n",
      "0       Apalachicola\n",
      "\n",
      "[14517 rows x 1 columns]\n",
      "  Estado\n",
      "0     FL\n",
      "0     OH\n",
      "0     PA\n",
      "0     NY\n",
      "0     MI\n",
      "0     NC\n",
      "0     IN\n",
      "0     GA\n",
      "0     NJ\n",
      "0     SC\n",
      "0     KY\n",
      "0     WV\n",
      "0     AL\n",
      "0     IL\n",
      "0     VA\n",
      "0     CT\n",
      "0     MD\n",
      "0     MA\n",
      "0     VT\n",
      "0     DE\n",
      "0     DC\n",
      "0     RI\n",
      "0     NH\n",
      "0     MS\n",
      "0     TN\n",
      "0     LA\n",
      "0     AR\n",
      "0     NM\n",
      "0     MO\n",
      "0     KS\n",
      "0     OK\n",
      "0     CO\n",
      "0     WY\n",
      "0     NE\n",
      "0     UT\n",
      "0     MT\n",
      "0     IA\n",
      "0     SD\n",
      "0     ND\n",
      "0     MN\n",
      "0     WI\n",
      "0     TX\n",
      "0     CA\n",
      "0     NV\n",
      "0     OR\n",
      "0     AK\n",
      "0     WA\n",
      "0     ID\n",
      "0     AZ\n",
      "    Regiao\n",
      "0     East\n",
      "0  Central\n",
      "0     West\n",
      "  Pais\n",
      "0  USA\n",
      "    IDCliente            Cliente\n",
      "0      247546        Nerea Barry\n",
      "0      124593     Elliott Stuart\n",
      "0      163517     Holmes Swanson\n",
      "0        8875        Nyssa Solis\n",
      "0        8894         Ivana Wall\n",
      "..        ...                ...\n",
      "0      274255     Kirestin Sloan\n",
      "0      106491   Bethany Mcdaniel\n",
      "0      188636        Venus Floyd\n",
      "0      203361  Patience Williams\n",
      "0      279158  Aladdin Velazquez\n",
      "\n",
      "[282596 rows x 2 columns]\n"
     ]
    }
   ],
   "source": [
    "#Lista de dimensões que serão criadas\n",
    "dimensoes = ['Produto', 'Categoria', 'Segmento', 'Fabricante', 'Cidade', 'Estado', 'Regiao', 'Pais', 'Cliente']\n",
    "\n",
    "#Lista das colunas que compõem cada tabela dimensão\n",
    "#Algumas tabelas possuem uma coluna adicional para ID, quando necessário\n",
    "colunas_dimensoes = [[\"IDProduto\", \"Produto\"], [\"Categoria\"], [\"Segmento\"], [\"IDFabricante\", \"Fabricante\"],\n",
    "                      [\"Cidade\"], [\"Estado\"], [\"Regiao\"], [\"Pais\"], [\"IDCliente\", \"Cliente\"]]\n",
    "\n",
    "#Dicionário para armazenar os DataFrames das dimensões\n",
    "dfs_dimensoes = {}\n",
    "\n",
    "#Loop sobre cada dimensão\n",
    "for dimensao, cols_dimensao in zip(dimensoes, colunas_dimensoes):\n",
    "    #Seleciona as colunas da dimensão no DataFrame original e remove linhas duplicadas\n",
    "    df_dimensao = df_original[cols_dimensao].drop_duplicates(subset=cols_dimensao)\n",
    "\n",
    "    #Redefine os índices do DataFrame, todos assumem valor 0\n",
    "    df_dimensao.index = [0]*len(df_dimensao)\n",
    "\n",
    "    #Adiciona o DataFrame da dimensão ao dicionário\n",
    "    dfs_dimensoes[dimensao] = df_dimensao\n",
    "\n",
    "#Visualiza os DataFrames criados para as futuras tabelas dimensões e os salva no formato parquet\n",
    "for dimensao, df_dimensao in dfs_dimensoes.items():\n",
    "    #Salva o DataFrame no formato parquet\n",
    "    df_dimensao.to_parquet(f\"{path}/SILVER/d_{dimensao}.parquet\")\n",
    "    #Exibe o DataFrame para visualização\n",
    "    print(df_dimensao)\n"
   ]
  },
  {
   "cell_type": "markdown",
   "metadata": {},
   "source": [
    "***Preparação dos dados para a camada Gold***"
   ]
  },
  {
   "cell_type": "markdown",
   "metadata": {},
   "source": [
    "*Adiciona as surrogate keys às tabelas dimensões*"
   ]
  },
  {
   "cell_type": "code",
   "execution_count": 42,
   "metadata": {},
   "outputs": [],
   "source": [
    "#Lista que salva o nome de cada surrogate key\n",
    "SKs = []\n",
    "\n",
    "#Loop sobre cada tabela dimensão\n",
    "for dimensao, df_dimensao in dfs_dimensoes.items():\n",
    "    #Adiciona o nome da surrogate key na lista\n",
    "    sk_nome = f\"SK_{dimensao.upper()}\"\n",
    "    SKs.append(sk_nome)\n",
    "    \n",
    "    #Inclui a surrogate key na tabela dimensão\n",
    "    df_dimensao[sk_nome] = range(1, len(df_dimensao) + 1)\n",
    "    \n",
    "    #Salva a tabela dimensão já pronta no formato parquet na camada Gold\n",
    "    df_dimensao.to_parquet(f\"{path}/GOLD/d_{dimensao}.parquet\")"
   ]
  },
  {
   "cell_type": "markdown",
   "metadata": {},
   "source": [
    "*Função que aplica o método SCD1 sobre tabelas dimensão - deve ser executada sempre que os dados da tabela forem modificados*"
   ]
  },
  {
   "cell_type": "code",
   "execution_count": 43,
   "metadata": {},
   "outputs": [],
   "source": [
    "#Na aplicação da SCD1 os dados novos são sobrescritos sobre os dados originais\n",
    "#Então a aplicação do SCD1 baseia-se na identificação de modificacões sobre os dados originais e na sobrescrecrição dos dados novos\n",
    "\n",
    "def aplicar_SCD1(df_dimensao_original, df_dimensao_modificado, dimensao):\n",
    "    \"\"\"\n",
    "    Aplica o método Slowly Changing Dimension 1 (SCD1) às tabelas de dimensão.\n",
    "\n",
    "    Paramêtros:\n",
    "    df_dimensao_original (DataFrame): O DataFrame contendo os dados originais da tabela dimensão.\n",
    "    df_dimensao_modificado (DataFrame): O DataFrame contendo os dados de uma tabela dimensão com alguma modificação.\n",
    "    dimensao (string): Uma string que representa a chave da tabela dimensão.\n",
    "\n",
    "    Retorna:\n",
    "    DataFrame: Um dataframe com os dados atualizados após a aplicação do SCD1.\n",
    "    \"\"\"\n",
    "    #Cria uma cópia do DataFrame original para evitar alterações indevidas\n",
    "    df_dimensao_atualizado = df_dimensao_original.copy()\n",
    "\n",
    "    #Variável que recebe o nome da surrogate key da dimensão\n",
    "    sk = f\"SK_{dimensao.upper()}\"\n",
    "\n",
    "    #Compara os DataFrames usando a surrogate key da dimensão\n",
    "    for _, linha in df_dimensao_modificado.iterrows():\n",
    "        sk_linha = linha[sk]\n",
    "        #Verifica se a chave existe no DataFrame original\n",
    "        if sk_linha in df_dimensao_atualizado[sk].values:\n",
    "            #Seleciona a linha correspondente no DataFrame original\n",
    "            linha_original = df_dimensao_atualizado[(df_dimensao_atualizado[sk] == sk_linha)].iloc[0]\n",
    "            #Compara os valores dos atributos\n",
    "            if not linha_original.equals(linha):\n",
    "                #Sobrescreve os dados originais com os dados modificados\n",
    "                df_dimensao_atualizado[(df_dimensao_atualizado[sk] == sk_linha)] = linha\n",
    "        else:\n",
    "            #Se a chave não existe no DataFrame original, adiciona o novo registro\n",
    "            df_dimensao_atualizado.loc[len(df_dimensao_atualizado)] = linha\n",
    "\n",
    "            #Mantém os indexes do df zerados após a inserção\n",
    "            df_dimensao_atualizado.index = [0]*len(df_dimensao_atualizado)\n",
    "\n",
    "    return df_dimensao_atualizado\n",
    "\n"
   ]
  },
  {
   "cell_type": "markdown",
   "metadata": {},
   "source": [
    "*Criação da tabela fato - adiciona-se as SKs, por meio da junção do dataframe original com as tabelas dimensão, em seguida cria-se as colunas das métricas e, por fim, remove-se as colunas que não irão compor a fato, mas faziam parte do df original.*"
   ]
  },
  {
   "cell_type": "code",
   "execution_count": 44,
   "metadata": {},
   "outputs": [
    {
     "data": {
      "text/html": [
       "<div>\n",
       "<style scoped>\n",
       "    .dataframe tbody tr th:only-of-type {\n",
       "        vertical-align: middle;\n",
       "    }\n",
       "\n",
       "    .dataframe tbody tr th {\n",
       "        vertical-align: top;\n",
       "    }\n",
       "\n",
       "    .dataframe thead th {\n",
       "        text-align: right;\n",
       "    }\n",
       "</style>\n",
       "<table border=\"1\" class=\"dataframe\">\n",
       "  <thead>\n",
       "    <tr style=\"text-align: right;\">\n",
       "      <th></th>\n",
       "      <th>SK_PRODUTO</th>\n",
       "      <th>SK_CATEGORIA</th>\n",
       "      <th>SK_SEGMENTO</th>\n",
       "      <th>SK_FABRICANTE</th>\n",
       "      <th>SK_CIDADE</th>\n",
       "      <th>SK_ESTADO</th>\n",
       "      <th>SK_REGIAO</th>\n",
       "      <th>SK_PAIS</th>\n",
       "      <th>SK_CLIENTE</th>\n",
       "      <th>Data</th>\n",
       "      <th>TotalCusto</th>\n",
       "      <th>TotalVendas</th>\n",
       "      <th>TotalUnidades</th>\n",
       "      <th>TotalLucro</th>\n",
       "    </tr>\n",
       "  </thead>\n",
       "  <tbody>\n",
       "    <tr>\n",
       "      <th>0</th>\n",
       "      <td>1</td>\n",
       "      <td>1</td>\n",
       "      <td>1</td>\n",
       "      <td>1</td>\n",
       "      <td>1</td>\n",
       "      <td>1</td>\n",
       "      <td>1</td>\n",
       "      <td>1</td>\n",
       "      <td>1</td>\n",
       "      <td>2012-07-26</td>\n",
       "      <td>74.729917</td>\n",
       "      <td>102.36975</td>\n",
       "      <td>1</td>\n",
       "      <td>27.639832</td>\n",
       "    </tr>\n",
       "    <tr>\n",
       "      <th>1</th>\n",
       "      <td>1</td>\n",
       "      <td>1</td>\n",
       "      <td>1</td>\n",
       "      <td>1</td>\n",
       "      <td>1</td>\n",
       "      <td>1</td>\n",
       "      <td>1</td>\n",
       "      <td>1</td>\n",
       "      <td>2</td>\n",
       "      <td>2013-10-31</td>\n",
       "      <td>74.729917</td>\n",
       "      <td>102.36975</td>\n",
       "      <td>1</td>\n",
       "      <td>27.639832</td>\n",
       "    </tr>\n",
       "    <tr>\n",
       "      <th>2</th>\n",
       "      <td>1</td>\n",
       "      <td>1</td>\n",
       "      <td>1</td>\n",
       "      <td>1</td>\n",
       "      <td>1</td>\n",
       "      <td>1</td>\n",
       "      <td>1</td>\n",
       "      <td>1</td>\n",
       "      <td>3</td>\n",
       "      <td>2013-11-14</td>\n",
       "      <td>74.729917</td>\n",
       "      <td>102.36975</td>\n",
       "      <td>1</td>\n",
       "      <td>27.639832</td>\n",
       "    </tr>\n",
       "    <tr>\n",
       "      <th>3</th>\n",
       "      <td>1</td>\n",
       "      <td>1</td>\n",
       "      <td>1</td>\n",
       "      <td>1</td>\n",
       "      <td>1</td>\n",
       "      <td>1</td>\n",
       "      <td>1</td>\n",
       "      <td>1</td>\n",
       "      <td>4</td>\n",
       "      <td>2013-01-17</td>\n",
       "      <td>74.729917</td>\n",
       "      <td>102.36975</td>\n",
       "      <td>1</td>\n",
       "      <td>27.639832</td>\n",
       "    </tr>\n",
       "    <tr>\n",
       "      <th>4</th>\n",
       "      <td>1</td>\n",
       "      <td>1</td>\n",
       "      <td>1</td>\n",
       "      <td>1</td>\n",
       "      <td>1</td>\n",
       "      <td>1</td>\n",
       "      <td>1</td>\n",
       "      <td>1</td>\n",
       "      <td>5</td>\n",
       "      <td>2014-09-13</td>\n",
       "      <td>74.729917</td>\n",
       "      <td>102.36975</td>\n",
       "      <td>1</td>\n",
       "      <td>27.639832</td>\n",
       "    </tr>\n",
       "  </tbody>\n",
       "</table>\n",
       "</div>"
      ],
      "text/plain": [
       "   SK_PRODUTO  SK_CATEGORIA  SK_SEGMENTO  SK_FABRICANTE  SK_CIDADE  SK_ESTADO   \n",
       "0           1             1            1              1          1          1  \\\n",
       "1           1             1            1              1          1          1   \n",
       "2           1             1            1              1          1          1   \n",
       "3           1             1            1              1          1          1   \n",
       "4           1             1            1              1          1          1   \n",
       "\n",
       "   SK_REGIAO  SK_PAIS  SK_CLIENTE       Data  TotalCusto  TotalVendas   \n",
       "0          1        1           1 2012-07-26   74.729917    102.36975  \\\n",
       "1          1        1           2 2013-10-31   74.729917    102.36975   \n",
       "2          1        1           3 2013-11-14   74.729917    102.36975   \n",
       "3          1        1           4 2013-01-17   74.729917    102.36975   \n",
       "4          1        1           5 2014-09-13   74.729917    102.36975   \n",
       "\n",
       "   TotalUnidades  TotalLucro  \n",
       "0              1   27.639832  \n",
       "1              1   27.639832  \n",
       "2              1   27.639832  \n",
       "3              1   27.639832  \n",
       "4              1   27.639832  "
      ]
     },
     "execution_count": 44,
     "metadata": {},
     "output_type": "execute_result"
    }
   ],
   "source": [
    "#DataFrame temporário para a tabela fato, inicialmente é uma cópia do DataFrame original\n",
    "df_temp = df_original\n",
    "\n",
    "#Loop sobre cada tabela dimensão e suas colunas correspondentes\n",
    "for dimensao, df_dimensao, colunas in zip(dfs_dimensoes.keys(), dfs_dimensoes.values(), colunas_dimensoes):\n",
    "    #Junta as colunas da tabela original com as tabelas dimensões utilizando left join\n",
    "    df_temp = df_temp.merge(df_dimensao, on=str(colunas[0]), how='left')\n",
    "\n",
    "#Seleciona as colunas que vão ser usadas para compor a tabela fato\n",
    "df_temp = df_temp[SKs + [\"Data\", \"CustoUnitario\", \"PrecoUnitario\", \"Unidades\"]]\n",
    "\n",
    "#Define as colunas para as métricas\n",
    "df_temp[\"TotalCusto\"] = df_temp[\"CustoUnitario\"] * df_temp[\"Unidades\"]\n",
    "df_temp[\"TotalVendas\"] = df_temp[\"PrecoUnitario\"] * df_temp[\"Unidades\"]\n",
    "df_temp['TotalUnidades'] = df_temp['Unidades']\n",
    "df_temp[\"TotalLucro\"] = df_temp[\"TotalVendas\"] - df_temp[\"TotalCusto\"]\n",
    "\n",
    "#Remove as colunas que não serão usadas na tabela fato\n",
    "df_temp.drop([\"CustoUnitario\", \"PrecoUnitario\", \"Unidades\"], axis=1, inplace=True)\n",
    "\n",
    "#Exibe uma porção do DataFrame temporário da tabela fato para visualização\n",
    "df_temp.head()\n"
   ]
  },
  {
   "cell_type": "markdown",
   "metadata": {},
   "source": [
    "*Particionamento dos arquivos parquet da tabela fato em ano e mês*"
   ]
  },
  {
   "cell_type": "code",
   "execution_count": 45,
   "metadata": {},
   "outputs": [],
   "source": [
    "# Adiciona colunas de Ano e Mês com base na coluna Data\n",
    "df_temp[\"Ano\"] = df_temp[\"Data\"].dt.year\n",
    "df_temp[\"Mes\"] = df_temp[\"Data\"].dt.month\n",
    "\n",
    "# Salva a tabela fato no formato parquet e a particiona em ano e mês\n",
    "df_temp.to_parquet(f\"{path}/GOLD/f_vendas/f_vendas.parquet\", partition_cols=[\"Ano\", \"Mes\"])\n"
   ]
  },
  {
   "cell_type": "markdown",
   "metadata": {},
   "source": [
    "**PARTE 2**"
   ]
  },
  {
   "cell_type": "markdown",
   "metadata": {},
   "source": [
    "***Preparação do ambiente e das variáveis que serão usadas na parte 2 do desafio***"
   ]
  },
  {
   "cell_type": "code",
   "execution_count": 3,
   "metadata": {},
   "outputs": [],
   "source": [
    "import pandas as pd"
   ]
  },
  {
   "cell_type": "code",
   "execution_count": 46,
   "metadata": {},
   "outputs": [],
   "source": [
    "#Carrega em dataframes apenas as tabelas que serão usadas nos exercícios\n",
    "df_f_vendas = pd.read_parquet(f\"{path}/GOLD/f_vendas\") #tabela fato vendas\n",
    "df_d_segmento = pd.read_parquet(f\"{path}/GOLD/d_Segmento.parquet\") #tabela dimensão segmento\n",
    "df_d_fabricante = pd.read_parquet(f\"{path}/GOLD/d_Fabricante.parquet\") #tabela dimensão fabricante\n",
    "df_d_produto = pd.read_parquet(f\"{path}/GOLD/d_Produto.parquet\") #tabela dimensão produto"
   ]
  },
  {
   "cell_type": "markdown",
   "metadata": {},
   "source": [
    "***Exercício 1: Qual o total de Vendas em Fev/2014 para cada Fabricante?***"
   ]
  },
  {
   "cell_type": "markdown",
   "metadata": {},
   "source": [
    "*Abordagem: filtra-se a tabela fato Vendas pelas colunas de ano e mês, junta-se a tabela filtrada com a tabela dimensão Fabricante e na tabela resultante aplica-se um agrupamento a partir da coluna \"Fabricante\" e calcula-se o total de vendas para cada fabricante por meio da soma dos valores da coluna \"TotalVendas\"*"
   ]
  },
  {
   "cell_type": "code",
   "execution_count": 48,
   "metadata": {},
   "outputs": [
    {
     "name": "stdout",
     "output_type": "stream",
     "text": [
      "Fabricante  IDFabricante\n",
      "VanArsdel   7               R$817,548.38\n",
      "Name: TotalVendas, dtype: object\n"
     ]
    }
   ],
   "source": [
    "#Cria um DataFrame que contem as vendas em fevereiro de 2014\n",
    "f_vendas_fev_2014 = df_f_vendas[(df_f_vendas[\"Ano\"] == 2014) & (df_f_vendas[\"Mes\"] == 2)]\n",
    "\n",
    "#Junta a tabela fato de vendas com a tabela dimensão de fabricante usando a coluna SK_FABRICANTE\n",
    "f_vendas_fev_2014_c_fabricante = f_vendas_fev_2014.merge(df_d_fabricante, on=\"SK_FABRICANTE\", how=\"left\")\n",
    "\n",
    "#Agrupa os dados pelo nome do fabricante e calcula o total de vendas para cada fabricante\n",
    "total_vendas_por_fabricante_fev_2014 = f_vendas_fev_2014_c_fabricante.groupby([\"Fabricante\", \"IDFabricante\"])[\"TotalVendas\"].sum()\n",
    "\n",
    "#Formata os valores para saírem com o símbolo de moeda R$ e separadores de milhar e decimal\n",
    "total_vendas_por_fabricante_fev_2014 = total_vendas_por_fabricante_fev_2014.map('R${:,.2f}'.format)\n",
    "\n",
    "#Exibe o total de vendas para cada fabricante\n",
    "print(total_vendas_por_fabricante_fev_2014)\n"
   ]
  },
  {
   "cell_type": "markdown",
   "metadata": {},
   "source": [
    "***Exercício 2: Quais os top 10 Produtos referente a Jan/2014 em Total de custo (R$) ?***"
   ]
  },
  {
   "cell_type": "markdown",
   "metadata": {},
   "source": [
    "*Abordagem: filtra-se a tabela fato Vendas pelas colunas de ano e mês, junta-se a tabela filtrada com a tabela dimensão Produto e na tabela resultante aplica-se um agrupamento a partir das colunas \"IDProduto\" e \"Produto\", visto que produtos com o mesmo nome podem ter identificadores diferentes. O total de custo para cada produto é calculado através da soma dos valores da coluna \"TotalCusto\". Para obter os top 10, ordena-se a tabela de custo, em ordem decrescente, e seleciona-se os 10 primeiros elementos.*"
   ]
  },
  {
   "cell_type": "code",
   "execution_count": 49,
   "metadata": {},
   "outputs": [
    {
     "data": {
      "text/plain": [
       "IDProduto  Produto      \n",
       "449        Maximus UM-54    R$70,096.66\n",
       "506        Maximus UM-11    R$37,329.66\n",
       "470        Maximus UM-75    R$31,162.38\n",
       "407        Maximus UM-12    R$20,338.41\n",
       "408        Maximus UM-13    R$18,832.18\n",
       "505        Maximus UM-10    R$18,012.27\n",
       "461        Maximus UM-66    R$17,632.51\n",
       "451        Maximus UM-56    R$17,420.39\n",
       "428        Maximus UM-33    R$15,003.57\n",
       "421        Maximus UM-26    R$13,865.57\n",
       "Name: TotalCusto, dtype: object"
      ]
     },
     "execution_count": 49,
     "metadata": {},
     "output_type": "execute_result"
    }
   ],
   "source": [
    "#Cria um DataFrame que contém as vendas de janeiro de 2014\n",
    "f_vendas_jan_2014 = df_f_vendas[(df_f_vendas[\"Ano\"] == 2014) & (df_f_vendas[\"Mes\"] == 1)]\n",
    "\n",
    "#Junta a tabela fato vendas com a tabela dimensão produtos por meio do SK_PRODUTO por left join\n",
    "f_vendas_jan_2014_c_produto = f_vendas_jan_2014.merge(df_d_produto, on=\"SK_PRODUTO\", how=\"left\")\n",
    "\n",
    "#Agrupa pelo id do produto e calcula o total de custo para cada produto\n",
    "custo_por_produto_jan_2014 = f_vendas_jan_2014_c_produto.groupby([\"IDProduto\", \"Produto\"])[\"TotalCusto\"].sum()\n",
    "\n",
    "\n",
    "# Ordena os produtos pelo total de custo em ordem decrescente\n",
    "custo_por_produto_jan_2014 = custo_por_produto_jan_2014.sort_values(ascending=False)\n",
    "\n",
    "#Formata os valores para saírem com o símbolo de moeda R$ e separadores de milhar e decimal\n",
    "custo_por_produto_jan_2014 = custo_por_produto_jan_2014.apply(lambda x: f\"R${x:,.2f}\")\n",
    "\n",
    "#Seleciona os top 10 produtos com base no total de custo\n",
    "custo_por_produto_jan_2014.head(10)\n"
   ]
  },
  {
   "cell_type": "markdown",
   "metadata": {},
   "source": [
    "***Exercício 3: Qual o total de vendas no 1º Trimestre/2014 por Segmento?***"
   ]
  },
  {
   "cell_type": "markdown",
   "metadata": {},
   "source": [
    "*Abordagem: filtra-se a tabela fato Vendas pelas colunas de ano e mês, onde são selecionados os dados referentes aos 3 primeiros meses do ano (1º trimestre), junta-se a tabela filtrada com a tabela dimensão Segmento e na tabela resultante aplica-se um agrupamento a partir da coluna \"Segmento\". O total de vendas para cada segmento é calculado através da soma dos valores da coluna \"TotalVendas\". Adicionalmente, verifica-se se houve algum segmento que não foi abordado na tabela do total de vendas por segmento, por não tem vendido nada durante nesse intervalo. Nesse caso, esses segmentos são adicionados à tabela com o valor de total de vendas igual a zero, para fornecer uma melhor visualização geral sobre o desempenho de todos os segmentos.*"
   ]
  },
  {
   "cell_type": "code",
   "execution_count": 50,
   "metadata": {},
   "outputs": [
    {
     "name": "stdout",
     "output_type": "stream",
     "text": [
      "Segmento\n",
      "Accessory         R$242,534.18\n",
      "All Season         R$42,199.04\n",
      "Convenience       R$507,722.51\n",
      "Extreme               R$118.07\n",
      "Moderation      R$1,754,029.98\n",
      "Productivity       R$65,403.39\n",
      "Regular                R$48.25\n",
      "Select                  R$0.00\n",
      "Youth              R$76,074.84\n",
      "Name: TotalVendas, dtype: object\n"
     ]
    }
   ],
   "source": [
    "#Cria um DataFrame que contém as vendas do 1º trimestre de 2014\n",
    "f_vendas_2014_1st_tri = df_f_vendas[(df_f_vendas[\"Ano\"] == 2014) & (df_f_vendas[\"Mes\"].isin(range(1, 4)))]\n",
    "\n",
    "#Dataframe que contém o nome de cada segmento\n",
    "nomes_segmentos = df_d_segmento[\"Segmento\"]\n",
    "\n",
    "#Junta a tabela com as vendas do 1º trimestre de 2014 e a tabela de segmento\n",
    "f_vendas_2014_1st_tri_c_segmento = f_vendas_2014_1st_tri.merge(df_d_segmento, on=\"SK_SEGMENTO\", how=\"left\")\n",
    "\n",
    "#Agrupa pelo segmento e calcula o total de vendas do primeiro trimestre de 2014\n",
    "total_vendas_2014_1st_tri_por_segmento = f_vendas_2014_1st_tri_c_segmento.groupby(\"Segmento\")[\"TotalVendas\"].sum()\n",
    "\n",
    "#Verifica quais segmentos não estão presentes no total de vendas por segmento\n",
    "segmentos_faltantes = set(nomes_segmentos) - set(total_vendas_2014_1st_tri_por_segmento.index)\n",
    "\n",
    "#Adiciona os segmentos faltantes com valor zero em total_vendas_2014_1st_tri_por_segmento\n",
    "for segmento in segmentos_faltantes:\n",
    "    total_vendas_2014_1st_tri_por_segmento[segmento] = 0.0\n",
    "\n",
    "#Ordena o índice em ordem alfabética\n",
    "total_vendas_2014_1st_tri_por_segmento = total_vendas_2014_1st_tri_por_segmento.sort_index()\n",
    "\n",
    "#Formata os valores para saírem com o símbolo de moeda R$ e separadores de milhar e decimal\n",
    "total_vendas_2014_1st_tri_por_segmento = total_vendas_2014_1st_tri_por_segmento.map('R${:,.2f}'.format)\n",
    "\n",
    "#Exibe o total de vendas do 1º trimestre de 2014 por segmento\n",
    "print(total_vendas_2014_1st_tri_por_segmento)"
   ]
  },
  {
   "cell_type": "markdown",
   "metadata": {},
   "source": [
    "***Exercício 4: Quais as Top 5 Segmentos em 2014 sobre o total de Vendas(R$)?***"
   ]
  },
  {
   "cell_type": "markdown",
   "metadata": {},
   "source": [
    "*Abordagem: filtra-se a tabela fato Vendas pela coluna de ano, junta-se a tabela filtrada com a tabela dimensão Segmento e na tabela resultante aplica-se um agrupamento a partir da coluna \"Segmento\". O total de vendas para cada segmento é calculado através da soma dos valores da coluna \"TotalVendas\". Para obter os top 5, ordena-se a tabela de vendas, em ordem decrescente, e seleciona-se os 5 primeiros elementos.*"
   ]
  },
  {
   "cell_type": "code",
   "execution_count": 18,
   "metadata": {},
   "outputs": [
    {
     "data": {
      "text/plain": [
       "Segmento\n",
       "Moderation      R$8,339,859.84\n",
       "Convenience     R$2,489,628.78\n",
       "Accessory       R$1,335,307.12\n",
       "Productivity      R$376,421.50\n",
       "Youth             R$322,936.25\n",
       "Name: TotalVendas, dtype: object"
      ]
     },
     "execution_count": 18,
     "metadata": {},
     "output_type": "execute_result"
    }
   ],
   "source": [
    "#Cria um DataFrame que contém as vendas de 2014\n",
    "f_vendas_2014 = df_f_vendas[(df_f_vendas[\"Ano\"] == 2014)]\n",
    "\n",
    "#Junta o dataframe das vendas de 2014 com o tabela de segmentos por meio da SK_SEGMENTO e left join\n",
    "f_vendas_2014_c_segmento = f_vendas_2014.merge(df_d_segmento, on=\"SK_SEGMENTO\", how=\"left\")\n",
    "\n",
    "#Agrupa as linhas por segmento e calcula o total de vendas para cada\n",
    "total_vendas_2014_por_segmento = f_vendas_2014_c_segmento.groupby(\"Segmento\")[\"TotalVendas\"].sum()\n",
    "\n",
    "#Ordena pelo Total de vendas em ordem decrescente\n",
    "total_vendas_2014_por_segmento = total_vendas_2014_por_segmento.sort_values(ascending=False)\n",
    "\n",
    "#Formata os valores do total de vendas para saírem com o símbolo de moeda R$ e separadores de milhar e decimal\n",
    "total_vendas_2014_por_segmento = total_vendas_2014_por_segmento.map('R${:,.2f}'.format)\n",
    "\n",
    "##Seleciona e exibe os top 5 segmentos com base no total de vendas\n",
    "total_vendas_2014_por_segmento.head()"
   ]
  },
  {
   "cell_type": "markdown",
   "metadata": {},
   "source": [
    "***Exercício 5: Qual o Total de Vendas(R$) mês a mês em 2014?***"
   ]
  },
  {
   "cell_type": "markdown",
   "metadata": {},
   "source": [
    "*Abordagem: filtra-se a tabela fato Vendas pela coluna de ano e na tabela resultante aplica-se um agrupamento a partir da coluna \"Mes\". O total de vendas para cada mês é calculado através da soma dos valores da coluna \"TotalVendas\". Para facilitar a análise, os índices da coluna mês, originalmente em formato inteiro, são substituídos pelos nomes dos meses.*"
   ]
  },
  {
   "cell_type": "code",
   "execution_count": 19,
   "metadata": {},
   "outputs": [
    {
     "name": "stdout",
     "output_type": "stream",
     "text": [
      "Mes\n",
      "Janeiro        R$624,955.34\n",
      "Fevereiro      R$817,548.38\n",
      "Março        R$1,245,626.53\n",
      "Abril        R$1,400,953.69\n",
      "Maio         R$1,510,562.61\n",
      "Junho        R$1,481,389.20\n",
      "Julho        R$1,281,465.32\n",
      "Agosto       R$1,273,947.55\n",
      "Setembro     R$1,201,761.72\n",
      "Outubro        R$916,773.19\n",
      "Novembro       R$714,020.90\n",
      "Dezembro       R$575,280.89\n",
      "Name: TotalVendas, dtype: object\n"
     ]
    }
   ],
   "source": [
    "#Cria um dataframe que contém as vendas de 2014\n",
    "f_vendas_2014 = df_f_vendas[(df_f_vendas[\"Ano\"] == 2014)]\n",
    "\n",
    "# Dicionário que mapeia o número do mês para o nome do mês\n",
    "meses = {\n",
    "    1: \"Janeiro\",\n",
    "    2: \"Fevereiro\",\n",
    "    3: \"Março\",\n",
    "    4: \"Abril\",\n",
    "    5: \"Maio\",\n",
    "    6: \"Junho\",\n",
    "    7: \"Julho\",\n",
    "    8: \"Agosto\",\n",
    "    9: \"Setembro\",\n",
    "    10: \"Outubro\",\n",
    "    11: \"Novembro\",\n",
    "    12: \"Dezembro\"\n",
    "}\n",
    "\n",
    "#Agrupa os dados pelo mês e calcula o total de vendas para cada mês\n",
    "vendas_2014_mes_a_mes = f_vendas_2014.groupby(\"Mes\")[\"TotalVendas\"].sum()\n",
    "\n",
    "# Mapeia os números dos meses para os seus respectivos nomes\n",
    "vendas_2014_mes_a_mes.index = vendas_2014_mes_a_mes.index.map(meses)\n",
    "\n",
    "#Formata os valores do total de vendas para saírem com o símbolo de moeda R$ e separadores de milhar e decimal\n",
    "vendas_2014_mes_a_mes = vendas_2014_mes_a_mes.map('R${:,.2f}'.format)\n",
    "\n",
    "print(vendas_2014_mes_a_mes)"
   ]
  },
  {
   "cell_type": "markdown",
   "metadata": {},
   "source": [
    "***Exercício 6: Qual o total de Lucro mês a mês em 2014?***"
   ]
  },
  {
   "cell_type": "markdown",
   "metadata": {},
   "source": [
    "*Abordagem: filtra-se a tabela fato Vendas pela coluna de ano e na tabela resultante aplica-se um agrupamento a partir da coluna \"Mes\". O total de lucro para cada mês é calculado através da soma dos valores da coluna \"TotalLucro\". Para facilitar a análise, os índices da coluna mês, originalmente em formato inteiro, são substituídos pelos nomes dos meses.*"
   ]
  },
  {
   "cell_type": "code",
   "execution_count": 29,
   "metadata": {},
   "outputs": [
    {
     "name": "stdout",
     "output_type": "stream",
     "text": [
      "Mes\n",
      "Janeiro      R$168,737.94\n",
      "Fevereiro    R$220,738.06\n",
      "Março        R$336,319.16\n",
      "Abril        R$378,257.50\n",
      "Maio         R$407,851.91\n",
      "Junho        R$399,975.08\n",
      "Julho        R$345,995.64\n",
      "Agosto       R$343,965.84\n",
      "Setembro     R$324,475.66\n",
      "Outubro      R$247,528.76\n",
      "Novembro     R$192,785.64\n",
      "Dezembro     R$155,325.84\n",
      "Name: TotalLucro, dtype: object\n"
     ]
    }
   ],
   "source": [
    "#Cria um dataframe que contém as vendas de 2014\n",
    "f_vendas_2014 = df_f_vendas[(df_f_vendas[\"Ano\"] == 2014)]\n",
    "\n",
    "# Dicionário que mapeia o número do mês para o nome do mês\n",
    "meses = {\n",
    "    1: \"Janeiro\",\n",
    "    2: \"Fevereiro\",\n",
    "    3: \"Março\",\n",
    "    4: \"Abril\",\n",
    "    5: \"Maio\",\n",
    "    6: \"Junho\",\n",
    "    7: \"Julho\",\n",
    "    8: \"Agosto\",\n",
    "    9: \"Setembro\",\n",
    "    10: \"Outubro\",\n",
    "    11: \"Novembro\",\n",
    "    12: \"Dezembro\"\n",
    "}\n",
    "\n",
    "#Agrupa os dados pelo mês e calcula o total de lucro para cada mês\n",
    "total_lucro_2014_mes_a_mes = f_vendas_2014.groupby(\"Mes\")[\"TotalLucro\"].sum()\n",
    "\n",
    "# Mapeia os números dos meses para os seus respectivos nomes\n",
    "total_lucro_2014_mes_a_mes.index = total_lucro_2014_mes_a_mes.index.map(meses)\n",
    "\n",
    "#Formata os valores do total de vendas para saírem com o símbolo de moeda R$ e separadores de milhar e decimal\n",
    "total_lucro_2014_mes_a_mes = total_lucro_2014_mes_a_mes.map('R${:,.2f}'.format)\n",
    "\n",
    "print(total_lucro_2014_mes_a_mes)"
   ]
  },
  {
   "cell_type": "markdown",
   "metadata": {},
   "source": [
    "***Exercício 7: Qual a variação %(MoM) de Total de vendas (R$) de Mar/2014 para Fev/2014 por Segmento.***"
   ]
  },
  {
   "cell_type": "markdown",
   "metadata": {},
   "source": [
    "*Abordagem: filtra-se a tabela fato Vendas pelas colunas de ano e mês, onde são selecionados os dados referentes aos meses 2 e 3, e junta-se a tabela filtrada com a tabela dimensão Segmento. A tabela filtrada é divida em 2, as quais possuem as vendas de fevereiro e as de março. Para cada tabela, calcula-se o total de vendas através da soma dos valores da coluna \"TotalVendas\". Para obter a variação %(MoM) sobre o total de vendas por segmento entre mar/2014 e fev/2014, calcula-se o 100x(total vendas mar - total vendas fev)/(total vendas fev) para cada segmento. Há segmentos que vão apresentar %(MoM) NaN, pois possuem (total vendas fev) = 0, então substitui-se os valores NaN por 0. Adicionalmente, verifica-se se houve algum segmento que não foi abordado na tabela de %(MoM). Nesse caso, esses segmentos são adicionados à tabela com o valor de variação %(MoM) igual a zero, para fornecer uma melhor visualização geral sobre o desempenho de todos os segmentos.*"
   ]
  },
  {
   "cell_type": "code",
   "execution_count": 30,
   "metadata": {},
   "outputs": [
    {
     "name": "stdout",
     "output_type": "stream",
     "text": [
      "Segmento\n",
      "Accessory       45.89%\n",
      "All Season      29.79%\n",
      "Convenience     66.81%\n",
      "Extreme          0.00%\n",
      "Moderation      49.64%\n",
      "Productivity    68.40%\n",
      "Regular          0.00%\n",
      "Select           0.00%\n",
      "Youth           44.23%\n",
      "Name: TotalVendas, dtype: object\n"
     ]
    }
   ],
   "source": [
    "#Cria um dataframe que contém as vendas de fevereiro e de março de 2014\n",
    "f_vendas_fev_mar_2014 = df_f_vendas[(df_f_vendas[\"Ano\"] == 2014) & (df_f_vendas[\"Mes\"].isin([2, 3]))]\n",
    "\n",
    "#Junta o dataframe criado acima com a tabela segmento a partir do SK_SEGMENTO usando left join\n",
    "f_vendas_fev_mar_2014_c_segmento = f_vendas_fev_mar_2014.merge(df_d_segmento, on=\"SK_SEGMENTO\", how=\"left\")\n",
    "\n",
    "#Separa os dados por mês - fevereiro e março\n",
    "f_vendas_fev_2014_c_segmento = f_vendas_fev_mar_2014_c_segmento[(f_vendas_fev_mar_2014_c_segmento[\"Mes\"] == 2)]\n",
    "f_vendas_mar_2014_c_segmento = f_vendas_fev_mar_2014_c_segmento[(f_vendas_fev_mar_2014_c_segmento[\"Mes\"] == 3)]\n",
    "\n",
    "#Agrupa por segmento e calcula o total de vendas para cada mês\n",
    "total_vendas_fev_2014_por_segmento = f_vendas_fev_2014_c_segmento.groupby(\"Segmento\")[\"TotalVendas\"].sum()\n",
    "total_vendas_mar_2014_por_segmento = f_vendas_mar_2014_c_segmento.groupby(\"Segmento\")[\"TotalVendas\"].sum()\n",
    "\n",
    "#Calcula a variação percentual mês a mês (MoM) do total de vendas por segmento\n",
    "variacao_mom_por_segmento = ((total_vendas_mar_2014_por_segmento - total_vendas_fev_2014_por_segmento)/total_vendas_fev_2014_por_segmento)*100\n",
    "\n",
    "#Substitui os valores NaN, gerados quando total_vendas_fev_2014_por_segmento = 0, por zero\n",
    "variacao_mom_por_segmento = variacao_mom_por_segmento.fillna(0)\n",
    "\n",
    "#Dataframe que contém o nome de cada segmento\n",
    "nomes_segmentos = df_d_segmento[\"Segmento\"]\n",
    "\n",
    "#Verifica quais segmentos não estão presentes em variacao_mom_por_segmento\n",
    "segmentos_faltantes = set(nomes_segmentos) - set(variacao_mom_por_segmento.index)\n",
    "\n",
    "#Adiciona os segmentos faltantes com valor zero em variacao_mom_por_segmento\n",
    "for segmento in segmentos_faltantes:\n",
    "    variacao_mom_por_segmento[segmento] = 0.0\n",
    "\n",
    "#Ordena o índice em ordem alfabética\n",
    "variacao_mom_por_segmento = variacao_mom_por_segmento.sort_index()\n",
    "\n",
    "#Formata o valor da variação mom\n",
    "variacao_mom_por_segmento = variacao_mom_por_segmento.apply(lambda x: \"{:.2f}%\".format(x))\n",
    "\n",
    "#Exibe a variação percentual do total de vendas por segmento entre os meses de fevereiro e março\n",
    "print(variacao_mom_por_segmento)"
   ]
  },
  {
   "cell_type": "markdown",
   "metadata": {},
   "source": [
    "***Exercício 8: Retorne o maior Valor de custos (R$) e seu respectivo segmento em Fev/2014.***"
   ]
  },
  {
   "cell_type": "markdown",
   "metadata": {},
   "source": [
    "*Abordagem: filtra-se a tabela fato Vendas pelas colunas de ano e mês. Calcula-se o maior valor de custo nesse conjunto de dados a partir do uso da função max sobre a coluna \"TotalCusto\", usa-se esse valor para delimitar os segmentos associados à ele, por meio da surrogate key. A partir dos valores das surrogate keys e da tabela dimensão Segmento, descobre-se os nomes dos segmentos que apresentaram o maior valor de custo em fev/2014.*"
   ]
  },
  {
   "cell_type": "code",
   "execution_count": 31,
   "metadata": {},
   "outputs": [
    {
     "name": "stdout",
     "output_type": "stream",
     "text": [
      "Maior valor de custos em fev/2014: R$147.93\n",
      "Segmento(s) associado(s) ao maior valor de custos:\n",
      "Moderation\n"
     ]
    }
   ],
   "source": [
    "#Cria um dataframe que contempla as vendas em fevereiro de 2014\n",
    "vendas_fev_2014 = df_f_vendas[(df_f_vendas[\"Ano\"] == 2014) & (df_f_vendas[\"Mes\"] == 2)]\n",
    "\n",
    "#Define o maior valor de custo em fevereiro de 2014\n",
    "maior_custo_fev_2014 = vendas_fev_2014[\"TotalCusto\"].max()\n",
    "\n",
    "#Descobre qual é a surrogate key do segmento que possui o maior valor de custo em fev/2014\n",
    "#Cria uma lista com todas as sk's associadas à esse valor\n",
    "sk_maior_custo = vendas_fev_2014[(vendas_fev_2014[\"TotalCusto\"] == maior_custo_fev_2014)][\"SK_SEGMENTO\"].unique()\n",
    "\n",
    "#Exibe o maior valor de custos em fev/2014\n",
    "print(f\"Maior valor de custos em fev/2014: R${maior_custo_fev_2014:,.2f}\")\n",
    "\n",
    "print(\"Segmento(s) associado(s) ao maior valor de custos:\")\n",
    "#Exibe o(s) segmento(s) que relaciona(m)-se com esse valor\n",
    "for sk in sk_maior_custo:\n",
    "    #Acessa o nome do segmento associado à sk\n",
    "    segmento = df_d_segmento[(df_d_segmento[\"SK_SEGMENTO\"] == sk)][\"Segmento\"]\n",
    "    print(segmento[0])\n",
    "\n"
   ]
  },
  {
   "cell_type": "markdown",
   "metadata": {},
   "source": [
    "***Exercício 9: Retorne o % (Share) de Total de vendas (R$), por Segmento em Fev/2014.***"
   ]
  },
  {
   "cell_type": "markdown",
   "metadata": {},
   "source": [
    "*Abordagem: filtra-se a tabela fato Vendas pelas colunas de ano e de mês, junta-se a tabela filtrada com a tabela dimensão Segmento e na tabela resultante aplica-se um agrupamento a partir da coluna \"Segmento\". O total de vendas por segmento é calculado através da soma dos valores da coluna \"TotalVendas\" e por meio dele calcula-se o %(share) de cada segmento: 100x(total vendas segmento)/(total vendas todos segmentos). Adicionalmente, verifica-se se houve algum segmento que não foi abordado na tabela de %(share). Nesse caso, esses segmentos são adicionados à tabela com o valor de variação %(share) igual a zero, para fornecer uma melhor visualização geral sobre o desempenho de todos os segmentos.*"
   ]
  },
  {
   "cell_type": "code",
   "execution_count": 32,
   "metadata": {},
   "outputs": [
    {
     "name": "stdout",
     "output_type": "stream",
     "text": [
      "Segmento\n",
      "Accessory        9.26%\n",
      "All Season       1.71%\n",
      "Convenience     18.13%\n",
      "Moderation      65.51%\n",
      "Productivity     2.41%\n",
      "Youth            2.99%\n",
      "Regular          0.00%\n",
      "Select           0.00%\n",
      "Extreme          0.00%\n",
      "Name: TotalVendas, dtype: object\n"
     ]
    }
   ],
   "source": [
    "#Cria dataframe que contém as vendas de fevereiro de 2014\n",
    "vendas_fev_2014 = df_f_vendas[(df_f_vendas[\"Ano\"] == 2014) & (df_f_vendas[\"Mes\"] == 2)]\n",
    "\n",
    "#Junta o df com a tabela de segmento por meio da sk_segmento\n",
    "vendas_fev_2014_c_segmento = vendas_fev_2014.merge(df_d_segmento, on=\"SK_SEGMENTO\", how=\"left\")\n",
    "\n",
    "#Agrupa os dados pelo Segmento e calcula o total de vendas por segmento\n",
    "total_vendas_por_segmento = vendas_fev_2014_c_segmento.groupby(\"Segmento\")[\"TotalVendas\"].sum()\n",
    "\n",
    "#Calcula o share total de vendas por segmento (em porcentagem)\n",
    "share_total_vendas_por_segmento = (total_vendas_por_segmento/total_vendas_por_segmento.sum())*100\n",
    "\n",
    "#Dataframe que contém o nome de cada segmento\n",
    "nomes_segmentos = df_d_segmento[\"Segmento\"]\n",
    "\n",
    "#Verifica quais segmentos não estão presentes em share_total_vendas_por_segmento\n",
    "segmentos_faltantes = set(nomes_segmentos) - set(share_total_vendas_por_segmento.index)\n",
    "\n",
    "#Adiciona os segmentos faltantes com valor zero em share_total_vendas_por_segmento\n",
    "for segmento in segmentos_faltantes:\n",
    "    share_total_vendas_por_segmento[segmento] = 0.0\n",
    "\n",
    "#Formata o share de vendas\n",
    "share_total_vendas_por_segmento = share_total_vendas_por_segmento.apply(lambda x: f\"{x:.2f}%\")\n",
    "\n",
    "#Exibe o share total de vendas por segmento em fev/2014\n",
    "print(share_total_vendas_por_segmento)\n"
   ]
  },
  {
   "cell_type": "markdown",
   "metadata": {},
   "source": [
    "***Exercício 10: Retorne o valor médio de Total de vendas Mês a Mês por segmento no ano de 2014.***"
   ]
  },
  {
   "cell_type": "markdown",
   "metadata": {},
   "source": [
    "*Abordagem: filtra-se a tabela fato Vendas pela coluna de ano, junta-se a tabela filtrada com a tabela dimensão Segmento e na tabela resultante aplica-se um agrupamento a partir das colunas \"Segmento\". O valor médio do total de vendas mês a mês por segmento é calculado através da média dos valores da coluna \"TotalVendas\".*"
   ]
  },
  {
   "cell_type": "code",
   "execution_count": 33,
   "metadata": {},
   "outputs": [
    {
     "name": "stdout",
     "output_type": "stream",
     "text": [
      "Mes  Segmento    \n",
      "1    Accessory       R$138.10\n",
      "     All Season       R$71.11\n",
      "     Convenience      R$73.70\n",
      "     Extreme          R$59.04\n",
      "     Moderation      R$116.08\n",
      "                       ...   \n",
      "12   Extreme           R$0.00\n",
      "     Moderation      R$115.53\n",
      "     Productivity     R$75.84\n",
      "     Regular           R$0.00\n",
      "     Youth            R$76.98\n",
      "Name: TotalVendas, Length: 96, dtype: object\n"
     ]
    }
   ],
   "source": [
    "#Cria um dataframe que contém as vendas de 2014\n",
    "vendas_2014 = df_f_vendas[(df_f_vendas[\"Ano\"] == 2014)]\n",
    "\n",
    "#Junta o df com a tabela de segmento por meio da sk_segmento\n",
    "vendas_2014_c_segmento = vendas_2014.merge(df_d_segmento, on=\"SK_SEGMENTO\", how=\"left\")\n",
    "\n",
    "#Calcula a média do total de vendas mês a mês por segmento\n",
    "#Agrupa os dados por Mês e Segmento e calcula a média das vendas para cada grupo\n",
    "media_vendas_por_segmento_mes = vendas_2014_c_segmento.groupby([\"Mes\", \"Segmento\"])[\"TotalVendas\"].mean()\n",
    "\n",
    "#Substitui valores NaN (Not a Number) por 0.0\n",
    "media_vendas_por_segmento_mes = media_vendas_por_segmento_mes.fillna(0.0)\n",
    "\n",
    "#Formata o valor da média do total de vendas\n",
    "media_vendas_por_segmento_mes = media_vendas_por_segmento_mes.apply(lambda x: f\"R${x:,.2f}\")\n",
    "\n",
    "#Exibe o valor médio do total de vendas mês a mês por segmento para 2014\n",
    "print(media_vendas_por_segmento_mes)\n"
   ]
  }
 ],
 "metadata": {
  "kernelspec": {
   "display_name": "Python 3",
   "language": "python",
   "name": "python3"
  },
  "language_info": {
   "codemirror_mode": {
    "name": "ipython",
    "version": 3
   },
   "file_extension": ".py",
   "mimetype": "text/x-python",
   "name": "python",
   "nbconvert_exporter": "python",
   "pygments_lexer": "ipython3",
   "version": "3.11.2"
  }
 },
 "nbformat": 4,
 "nbformat_minor": 2
}
